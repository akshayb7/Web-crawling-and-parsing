{
 "cells": [
  {
   "cell_type": "code",
   "execution_count": 1,
   "metadata": {},
   "outputs": [],
   "source": [
    "import bs4 as bs\n",
    "import urllib.request"
   ]
  },
  {
   "cell_type": "code",
   "execution_count": 3,
   "metadata": {},
   "outputs": [],
   "source": [
    "source = urllib.request.urlopen('https://pythonprogramming.net/parsememcparseface/').read()"
   ]
  },
  {
   "cell_type": "code",
   "execution_count": 5,
   "metadata": {},
   "outputs": [],
   "source": [
    "soup = bs.BeautifulSoup(source,'lxml')"
   ]
  },
  {
   "cell_type": "markdown",
   "metadata": {},
   "source": [
    "Rather than working with the full page, let's work with the sections we want to work with."
   ]
  },
  {
   "cell_type": "code",
   "execution_count": 6,
   "metadata": {},
   "outputs": [
    {
     "name": "stdout",
     "output_type": "stream",
     "text": [
      "/\n",
      "#\n",
      "/\n",
      "/+=1/\n",
      "/support/\n",
      "https://goo.gl/7zgAVQ\n",
      "/login/\n",
      "/register/\n",
      "/\n",
      "/+=1/\n",
      "/support/\n",
      "https://goo.gl/7zgAVQ\n",
      "/login/\n",
      "/register/\n"
     ]
    }
   ],
   "source": [
    "# Finding urls in the navigation bar\n",
    "for url in soup.nav.find_all('a'):\n",
    "    print(url.get('href'))"
   ]
  },
  {
   "cell_type": "code",
   "execution_count": 7,
   "metadata": {},
   "outputs": [
    {
     "name": "stdout",
     "output_type": "stream",
     "text": [
      "/\n",
      "#\n",
      "/\n",
      "/+=1/\n",
      "/support/\n",
      "https://goo.gl/7zgAVQ\n",
      "/login/\n",
      "/register/\n",
      "/\n",
      "/+=1/\n",
      "/support/\n",
      "https://goo.gl/7zgAVQ\n",
      "/login/\n",
      "/register/\n",
      "https://www.crummy.com/software/BeautifulSoup/bs4/doc/\n",
      "/sitemap.xml\n"
     ]
    }
   ],
   "source": [
    "# Finding urls in the body tag\n",
    "for url in soup.body.find_all('a'):\n",
    "    print(url.get('href'))"
   ]
  },
  {
   "cell_type": "code",
   "execution_count": 9,
   "metadata": {},
   "outputs": [
    {
     "name": "stdout",
     "output_type": "stream",
     "text": [
      "Oh, hello! This is a wonderful page meant to let you practice web scraping. This page was originally created to help people work with the Beautiful Soup 4 library.\n",
      "The following table gives some general information for the following programming languages:\n",
      "I think it's clear that, on a scale of 1-10, python is:\n",
      "Javascript (dynamic data) test:\n",
      "y u bad tho?\n",
      "Whᶐt hαppéns now¿\n",
      "sitemap\n"
     ]
    }
   ],
   "source": [
    "for para in soup.body.find_all('p'):\n",
    "    print(para.text)"
   ]
  },
  {
   "cell_type": "markdown",
   "metadata": {},
   "source": [
    "Sometimes there might be multiple tags with the same names, but different classes. We can scrap stuff from it as:"
   ]
  },
  {
   "cell_type": "code",
   "execution_count": 11,
   "metadata": {
    "scrolled": true
   },
   "outputs": [
    {
     "name": "stdout",
     "output_type": "stream",
     "text": [
      "\n",
      "Oh, hello! This is a wonderful page meant to let you practice web scraping. This page was originally created to help people work with the Beautiful Soup 4 library.\n",
      "The following table gives some general information for the following programming languages:\n",
      "\n",
      "Python\n",
      "Pascal\n",
      "Lisp\n",
      "D#\n",
      "Cobol\n",
      "Fortran\n",
      "Haskell\n",
      "\n",
      "\n",
      "\n",
      "Program Name\n",
      "Internet Points\n",
      "Kittens?\n",
      "\n",
      "\n",
      "Python\n",
      "932914021\n",
      "Definitely\n",
      "\n",
      "\n",
      "Pascal\n",
      "532\n",
      "Unlikely\n",
      "\n",
      "\n",
      "Lisp\n",
      "1522\n",
      "Uncertain\n",
      "\n",
      "\n",
      "D#\n",
      "12\n",
      "Possibly\n",
      "\n",
      "\n",
      "Cobol\n",
      "3\n",
      "No.\n",
      "\n",
      "\n",
      "Fortran\n",
      "52124\n",
      "Yes.\n",
      "\n",
      "\n",
      "Haskell\n",
      "24\n",
      "lol.\n",
      "\n",
      "\n",
      "I think it's clear that, on a scale of 1-10, python is:\n",
      "\n",
      "\n",
      "\n",
      "\n",
      "\n",
      "\n",
      "Javascript (dynamic data) test:\n",
      "y u bad tho?\n",
      "\n",
      "     document.getElementById('yesnojs').innerHTML = 'Look at you shinin!';\n",
      "  \n",
      "\n",
      "Beautiful is better than ugly.\n",
      "Explicit is better than implicit.\n",
      "Simple is better than complex.\n",
      "Complex is better than complicated.\n",
      "Flat is better than nested.\n",
      "Sparse is better than dense.\n",
      "Readability counts.\n",
      "Special cases aren't special enough to break the rules.\n",
      "Although practicality beats purity.\n",
      "Errors should never pass silently.\n",
      "Unless explicitly silenced.\n",
      "In the face of ambiguity, refuse the temptation to guess.\n",
      "There should be one-- and preferably only one --obvious way to do it.\n",
      "Although that way may not be obvious at first unless you're Dutch.\n",
      "Now is better than never.\n",
      "Although never is often better than *right* now.\n",
      "If the implementation is hard to explain, it's a bad idea.\n",
      "If the implementation is easy to explain, it may be a good idea.\n",
      "Namespaces are one honking great idea -- let's do more of those!\n",
      "Whᶐt hαppéns now¿\n",
      "sitemap\n",
      "\n"
     ]
    }
   ],
   "source": [
    "for div in soup.find_all('div', class_ = 'body'):\n",
    "    print(div.text)"
   ]
  }
 ],
 "metadata": {
  "kernelspec": {
   "display_name": "Python 3",
   "language": "python",
   "name": "python3"
  },
  "language_info": {
   "codemirror_mode": {
    "name": "ipython",
    "version": 3
   },
   "file_extension": ".py",
   "mimetype": "text/x-python",
   "name": "python",
   "nbconvert_exporter": "python",
   "pygments_lexer": "ipython3",
   "version": "3.6.4"
  }
 },
 "nbformat": 4,
 "nbformat_minor": 2
}
