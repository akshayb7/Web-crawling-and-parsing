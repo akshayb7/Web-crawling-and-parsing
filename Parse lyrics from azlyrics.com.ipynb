{
 "cells": [
  {
   "cell_type": "code",
   "execution_count": 1,
   "metadata": {},
   "outputs": [],
   "source": [
    "import bs4 as bs\n",
    "import urllib.request"
   ]
  },
  {
   "cell_type": "code",
   "execution_count": 3,
   "metadata": {},
   "outputs": [],
   "source": [
    "source = urllib.request.urlopen('https://www.azlyrics.com/lyrics/eminem/loseyourself.html').read()\n",
    "soup = bs.BeautifulSoup(source,'lxml')"
   ]
  },
  {
   "cell_type": "code",
   "execution_count": 14,
   "metadata": {},
   "outputs": [
    {
     "name": "stdout",
     "output_type": "stream",
     "text": [
      "\n",
      "\n",
      "\r\n",
      "Look, if you had, one shot, or one opportunity\n",
      "To seize everything you ever wanted. In one moment\n",
      "Would you capture it, or just let it slip?\n",
      "Yo\n",
      "\n",
      "His palms are sweaty, knees weak, arms are heavy\n",
      "There's vomit on his sweater already, mom's spaghetti\n",
      "He's nervous, but on the surface he looks calm and ready to drop bombs,\n",
      "But he keeps on forgetting what he wrote down,\n",
      "The whole crowd goes so loud\n",
      "He opens his mouth, but the words won't come out\n",
      "He's choking how, everybody's joking now\n",
      "The clock's run out, time's up, over, blaow!\n",
      "Snap back to reality. Oh, there goes gravity\n",
      "Oh, there goes Rabbit, he choked\n",
      "He's so mad, but he won't give up that\n",
      "Easy, no\n",
      "He won't have it, he knows his whole back's to these ropes\n",
      "It don't matter, he's dope\n",
      "He knows that but he's broke\n",
      "He's so stagnant, he knows\n",
      "When he goes back to his mobile home, that's when it's\n",
      "Back to the lab again, yo\n",
      "This whole rhapsody\n",
      "He better go capture this moment and hope it don't pass him\n",
      "\n",
      "[Hook:]\n",
      "You better lose yourself in the music, the moment\n",
      "You own it, you better never let it go (go)\n",
      "You only get one shot, do not miss your chance to blow\n",
      "This opportunity comes once in a lifetime (yo)\n",
      "You better lose yourself in the music, the moment\n",
      "You own it, you better never let it go (go)\n",
      "You only get one shot, do not miss your chance to blow\n",
      "This opportunity comes once in a lifetime (yo)\n",
      "(You better)\n",
      "\n",
      "The soul's escaping, through this hole that is gaping\n",
      "This world is mine for the taking\n",
      "Make me king, as we move toward a new world order\n",
      "A normal life is boring, but superstardom's close to postmortem\n",
      "It only grows harder, homie grows hotter\n",
      "He blows. It's all over. These hoes is all on him\n",
      "Coast to coast shows, he's known as the globetrotter\n",
      "Lonely roads, God only knows\n",
      "He's grown farther from home, he's no father\n",
      "He goes home and barely knows his own daughter\n",
      "But hold your nose 'cause here goes the cold water\n",
      "His hoes don't want him no more, he's cold product\n",
      "They moved on to the next schmoe who flows\n",
      "He nose dove and sold nada\n",
      "So the soap opera is told and unfolds\n",
      "I suppose it's old partner, but the beat goes on\n",
      "Da da dum da dum da da da da\n",
      "\n",
      "[Hook]\n",
      "\n",
      "No more games, I'mma change what you call rage\n",
      "Tear this motherfucking roof off like two dogs caged\n",
      "I was playing in the beginning, the mood all changed\n",
      "I've been chewed up and spit out and booed off stage\n",
      "But I kept rhyming and stepped right into the next cypher\n",
      "Best believe somebody's paying the Pied Piper\n",
      "All the pain inside amplified by the\n",
      "Fact that I can't get by with my 9 to 5\n",
      "And I can't provide the right type of life for my family\n",
      "'Cause man, these goddamn food stamps don't buy diapers\n",
      "And it's no movie, there's no Mekhi Phifer, this is my life\n",
      "And these times are so hard, and it's getting even harder\n",
      "Trying to feed and water my seed, plus\n",
      "Teeter totter caught up between being a father and a primadonna\n",
      "Baby, mama drama's screaming on her\n",
      "Too much for me to wanna\n",
      "Stay in one spot, another day of monotony's gotten me\n",
      "To the point, I'm like a snail\n",
      "I've got to formulate a plot or I end up in jail or shot\n",
      "Success is my only motherfucking option, failure's not\n",
      "Mom, I love you, but this trailer's got to go\n",
      "I cannot grow old in Salem's lot\n",
      "So here I go it's my shot.\n",
      "Feet, fail me not\n",
      "This may be the only opportunity that I got\n",
      "\n",
      "[Hook]\n",
      "\n",
      "You can do anything you set your mind to, man\n",
      "\n"
     ]
    }
   ],
   "source": [
    "for div in soup.find_all('div',class_=''):\n",
    "    print(div.text)"
   ]
  }
 ],
 "metadata": {
  "kernelspec": {
   "display_name": "Python 3",
   "language": "python",
   "name": "python3"
  },
  "language_info": {
   "codemirror_mode": {
    "name": "ipython",
    "version": 3
   },
   "file_extension": ".py",
   "mimetype": "text/x-python",
   "name": "python",
   "nbconvert_exporter": "python",
   "pygments_lexer": "ipython3",
   "version": "3.6.4"
  }
 },
 "nbformat": 4,
 "nbformat_minor": 2
}
